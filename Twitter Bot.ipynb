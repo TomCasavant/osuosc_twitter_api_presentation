{
 "cells": [
  {
   "cell_type": "code",
   "execution_count": null,
   "metadata": {
    "scrolled": true
   },
   "outputs": [],
   "source": [
    "%pip install tweepy\n",
    "%pip install textblob\n",
    "%pip install matplotlib"
   ]
  },
  {
   "cell_type": "markdown",
   "metadata": {},
   "source": [
    "# Getting Access to the API\n",
    "[App Keys](https://developer.twitter.com/en/apps/17356295)"
   ]
  },
  {
   "cell_type": "code",
   "execution_count": null,
   "metadata": {},
   "outputs": [],
   "source": [
    "# Get Auth codes (developer.twitter.com)\n",
    "# DON'T DO IT THIS WAY\n",
    "CONSUMER_KEY = \"CONSUMER KEY HERE\"\n",
    "CONSUMER_SECRET = \"CONSUMER ACCESS HERE\"\n",
    "ACCESS_TOKEN = \"ACCESS TOKEN HERE\"\n",
    "ACCESS_TOKEN_SECRET = \"ACCESS TOKEN SECRET HERE\""
   ]
  },
  {
   "cell_type": "code",
   "execution_count": null,
   "metadata": {},
   "outputs": [],
   "source": [
    "import tweepy\n",
    "# Create api instance\n",
    "auth = tweepy.OAuthHandler(CONSUMER_KEY, CONSUMER_SECRET)\n",
    "auth.set_access_token(ACCESS_TOKEN, ACCESS_TOKEN_SECRET)\n",
    "\n",
    "# wait_on_rate_limit - pauses until api allowed to make calls again\n",
    "api = tweepy.API(auth, wait_on_rate_limit=True, wait_on_rate_limit_notify=True)"
   ]
  },
  {
   "cell_type": "markdown",
   "metadata": {},
   "source": [
    "# Creating a Status Update\n",
    "[My Twitter Account](https://twitter.com/mrpresidenttom)"
   ]
  },
  {
   "cell_type": "code",
   "execution_count": null,
   "metadata": {
    "scrolled": true
   },
   "outputs": [],
   "source": [
    "# Posting a tweet\n",
    "api.update_status(\"This is a tweet from a bot made by The Open Source Club at OSU (@osuosc)\")"
   ]
  },
  {
   "cell_type": "markdown",
   "metadata": {},
   "source": [
    "# Searching Tweets"
   ]
  },
  {
   "cell_type": "code",
   "execution_count": null,
   "metadata": {
    "scrolled": true
   },
   "outputs": [],
   "source": [
    "# Searching through Tweets\n",
    "# Twitter switched to 280 chars, hence 'extended'\n",
    "tweets = api.search(\"\\\"Open Source\\\" -filter:retweets\", count=10, tweet_mode='extended')\n",
    "for tweet in tweets:\n",
    "    print(f\"@{tweet.user.screen_name}: {tweet.full_text}\\n\")"
   ]
  },
  {
   "cell_type": "markdown",
   "metadata": {},
   "source": [
    "# Sentiment Analysis"
   ]
  },
  {
   "cell_type": "code",
   "execution_count": null,
   "metadata": {},
   "outputs": [],
   "source": [
    "# Sentiment Analysis\n",
    "from textblob import TextBlob\n",
    "# TextBlob uses nltk to perform sentiment analysis on text\n",
    "happy = TextBlob(\"This is a message\") # Can change this to a neutral message\n",
    "print(f\"Positive: {happy.sentiment.polarity}\")\n",
    "sad = TextBlob(\"I hate this unfortunate message\")\n",
    "print(f\"Negative: {sad.sentiment.polarity}\")"
   ]
  },
  {
   "cell_type": "markdown",
   "metadata": {},
   "source": [
    "# Analyzing Tweets"
   ]
  },
  {
   "cell_type": "code",
   "execution_count": null,
   "metadata": {},
   "outputs": [],
   "source": [
    "# Data Analytics (Sentiment Analysis)\n",
    "for tweet in tweets:\n",
    "    analysis = TextBlob(tweet.full_text)\n",
    "    if analysis.sentiment.polarity > 0: \n",
    "           print(\"Positive! :D\")\n",
    "    elif analysis.sentiment.polarity == 0: \n",
    "           print(\"Neutral. :|\")\n",
    "    else: \n",
    "           print(\"Negative :(\")"
   ]
  },
  {
   "cell_type": "markdown",
   "metadata": {},
   "source": [
    "# Real Life Application"
   ]
  },
  {
   "cell_type": "code",
   "execution_count": null,
   "metadata": {},
   "outputs": [],
   "source": [
    "# Real Life Analysis\n",
    "def get_tweets(query, total=200):\n",
    "    ''' Retrieve more than 100 tweets from the Twitter API '''\n",
    "    searched_tweets = []\n",
    "    last_id = -1\n",
    "    while len(searched_tweets) < total:\n",
    "        count = total - len(searched_tweets)\n",
    "        # Use the last ID to get a different set of tweets\n",
    "        new_tweets = api.search(q=query, count=count, max_id=str(last_id -1), tweet_mode='extended')\n",
    "        if new_tweets:\n",
    "            searched_tweets.extend(new_tweets) # Add tweets to list\n",
    "            print(f\"Loaded {len(searched_tweets)} tweets\")\n",
    "            last_id = new_tweets[-1].id # Get the ID of the last retrieved tweet\n",
    "    return searched_tweets\n",
    "\n",
    "print(\"Reds:\")\n",
    "reds = get_tweets('\\\"Cincinnati Reds\\\" -filter:retweets')\n",
    "print(\"Pirates:\")\n",
    "pirates = get_tweets('\\\"Pittsburgh Pirates\\\" -filter:retweets')\n",
    "print(\"Cubs:\")\n",
    "cubs = get_tweets('\\\"Chicago Cubs\\\" -filter:retweets')\n",
    "print(\"Brewers:\")\n",
    "brewers = get_tweets('\\\"Milwaukee Brewers\\\" -filter:retweets')\n",
    "print(\"Cardinals:\")\n",
    "cards = get_tweets('\\\"St. Louis Cardinals\\\" -filter:retweets')\n",
    "\n",
    "'''\n",
    "print(\"Reds:\")\n",
    "reds = get_tweets('Reds Baseball -filter:retweets')\n",
    "print(\"Pirates:\")\n",
    "pirates = get_tweets('Pirates Baseball -filter:retweets')\n",
    "print(\"Cubs:\")\n",
    "cubs = get_tweets('Cubs Baseball -filter:retweets')\n",
    "print(\"Brewers:\")\n",
    "brewers = get_tweets('Brewers Baseball -filter:retweets')\n",
    "print(\"Cardinals:\")\n",
    "cards = get_tweets('Cardinals Baseball -filter:retweets')\n",
    "'''"
   ]
  },
  {
   "cell_type": "code",
   "execution_count": null,
   "metadata": {},
   "outputs": [],
   "source": [
    "def analyze(tweets):\n",
    "    ''' \n",
    "    Takes a list of tweets and returns a dictionary representing\n",
    "    the number of positive, neutral, and negative tweets exist\n",
    "    '''\n",
    "    result = {\"positive\": 0, \"neutral\": 0, \"negative\": 0}\n",
    "    for tweet in tweets:\n",
    "        analysis = TextBlob(tweet.full_text)\n",
    "        if analysis.sentiment.polarity > 0: \n",
    "               result['positive'] += 1\n",
    "        elif analysis.sentiment.polarity == 0: \n",
    "               result['neutral'] += 1\n",
    "        else: \n",
    "               result['negative'] += 1\n",
    "    return result\n",
    "\n",
    "reds_res = analyze(reds)\n",
    "pirates_res = analyze(pirates)\n",
    "cubs_res = analyze(cubs)\n",
    "brewers_res = analyze(brewers)\n",
    "cards_res = analyze(cards)\n",
    "print(f\"Reds: {reds_res}\")\n",
    "print(f\"Pirates: {pirates_res}\")\n",
    "print(f\"Cubs: {cubs_res}\")\n",
    "print(f\"Brewers: {brewers_res}\")\n",
    "print(f\"Cardinals: {cards_res}\")"
   ]
  },
  {
   "cell_type": "code",
   "execution_count": null,
   "metadata": {
    "scrolled": true
   },
   "outputs": [],
   "source": [
    "# Visual Data using Matplotlib\n",
    "import matplotlib.pyplot as plt\n",
    "import numpy as np\n",
    "\n",
    "labels = [\"Positive\", \"Neutral\", \"Negative\"]\n",
    "teams = [\"Reds\", \"Pirates\", \"Cubs\", \"Brewers\", \"Cardinals\"]\n",
    "\n",
    "x_axis = np.arange(len(labels))\n",
    "fig = plt.figure()\n",
    "ax = fig.add_axes([0,0,1,1])\n",
    "ax.set_xticklabels(labels) # Create the labels for the x-axis\n",
    "\n",
    "# Create bars for each set of data\n",
    "ax.bar(x_axis, list(reds_res.values()), width=0.1, color='#C6011F', align='center')\n",
    "ax.bar(x_axis+0.11, list(pirates_res.values()), width=0.1, color='#fdb827', align='center')\n",
    "ax.bar(x_axis+0.22, list(cubs_res.values()), width=0.1, color='#0E3386', align='center')\n",
    "ax.bar(x_axis+0.33, list(brewers_res.values()), width=0.1, color='#0a2351', align='center')\n",
    "ax.bar(x_axis+0.44, list(cards_res.values()), width=0.1, color='#c41e3a', align='center')\n",
    "\n",
    "ax.tick_params(axis='x',length=0) # Remove x-ticks\n",
    "ax.set_xticks(x_axis+0.2) # Align labels with the center of the bars\n",
    "\n",
    "#ax.set_facecolor('black') # Set background color\n",
    "\n",
    "plt.legend(teams) # Create a legend\n",
    "plt.show() # Display the graph"
   ]
  },
  {
   "cell_type": "markdown",
   "metadata": {},
   "source": [
    "# Issues\n",
    "Search query, emotional fans aren't typing 'Cincinnati Reds' or 'Pittsburgh Pirates'\n",
    "- More likely to just type 'Pirates'\n",
    "-- But, people might type 'Pirates' and not refer to the baseball team\n",
    "\n",
    "Tweets include things other than just text, which may confuse the text analysis\n",
    "- Hashtags \n",
    "- Tagging people\n",
    "\n",
    "Rate Limiting"
   ]
  },
  {
   "cell_type": "markdown",
   "metadata": {},
   "source": [
    "# Extras\n",
    "Streaming API\n",
    "- Get tweets continuously\n",
    "- When a new tweet is made that fits your query it will appear in your stream"
   ]
  }
 ],
 "metadata": {
  "kernelspec": {
   "display_name": "Python 3",
   "language": "python",
   "name": "python3"
  },
  "language_info": {
   "codemirror_mode": {
    "name": "ipython",
    "version": 3
   },
   "file_extension": ".py",
   "mimetype": "text/x-python",
   "name": "python",
   "nbconvert_exporter": "python",
   "pygments_lexer": "ipython3",
   "version": "3.6.9"
  }
 },
 "nbformat": 4,
 "nbformat_minor": 4
}
